{
 "cells": [
  {
   "cell_type": "markdown",
   "id": "a30575ba",
   "metadata": {},
   "source": [
    "### \n",
    "\n",
    "CNN is used for models working with images"
   ]
  },
  {
   "cell_type": "code",
   "execution_count": 1,
   "id": "a14de818",
   "metadata": {},
   "outputs": [],
   "source": [
    "import tensorflow as tf\n",
    "import numpy as np\n",
    "import pandas as pd\n",
    "import os\n",
    "import matplotlib.pyplot as plt\n",
    "from tensorflow import keras "
   ]
  },
  {
   "cell_type": "code",
   "execution_count": 2,
   "id": "80ec4428",
   "metadata": {},
   "outputs": [],
   "source": [
    "xtrain = pd.read_csv('fashion_train.csv')\n",
    "ytrain = pd.read_csv('fashion_train_labels.csv')\n",
    "xtest = pd.read_csv('fashion_test.csv')\n",
    "ytest = pd.read_csv('fashion_test_labels.csv')"
   ]
  },
  {
   "cell_type": "code",
   "execution_count": 3,
   "id": "86385c3f",
   "metadata": {},
   "outputs": [
    {
     "data": {
      "text/html": [
       "<div>\n",
       "<style scoped>\n",
       "    .dataframe tbody tr th:only-of-type {\n",
       "        vertical-align: middle;\n",
       "    }\n",
       "\n",
       "    .dataframe tbody tr th {\n",
       "        vertical-align: top;\n",
       "    }\n",
       "\n",
       "    .dataframe thead th {\n",
       "        text-align: right;\n",
       "    }\n",
       "</style>\n",
       "<table border=\"1\" class=\"dataframe\">\n",
       "  <thead>\n",
       "    <tr style=\"text-align: right;\">\n",
       "      <th></th>\n",
       "      <th>0</th>\n",
       "      <th>1</th>\n",
       "      <th>2</th>\n",
       "      <th>3</th>\n",
       "      <th>4</th>\n",
       "      <th>5</th>\n",
       "      <th>6</th>\n",
       "      <th>7</th>\n",
       "      <th>8</th>\n",
       "      <th>9</th>\n",
       "      <th>...</th>\n",
       "      <th>774</th>\n",
       "      <th>775</th>\n",
       "      <th>776</th>\n",
       "      <th>777</th>\n",
       "      <th>778</th>\n",
       "      <th>779</th>\n",
       "      <th>780</th>\n",
       "      <th>781</th>\n",
       "      <th>782</th>\n",
       "      <th>783</th>\n",
       "    </tr>\n",
       "  </thead>\n",
       "  <tbody>\n",
       "    <tr>\n",
       "      <th>0</th>\n",
       "      <td>0</td>\n",
       "      <td>0</td>\n",
       "      <td>0</td>\n",
       "      <td>0</td>\n",
       "      <td>0</td>\n",
       "      <td>0</td>\n",
       "      <td>0</td>\n",
       "      <td>0</td>\n",
       "      <td>0</td>\n",
       "      <td>0</td>\n",
       "      <td>...</td>\n",
       "      <td>0</td>\n",
       "      <td>0</td>\n",
       "      <td>0</td>\n",
       "      <td>0</td>\n",
       "      <td>0</td>\n",
       "      <td>0</td>\n",
       "      <td>0</td>\n",
       "      <td>0</td>\n",
       "      <td>0</td>\n",
       "      <td>0</td>\n",
       "    </tr>\n",
       "    <tr>\n",
       "      <th>1</th>\n",
       "      <td>0</td>\n",
       "      <td>0</td>\n",
       "      <td>0</td>\n",
       "      <td>0</td>\n",
       "      <td>0</td>\n",
       "      <td>1</td>\n",
       "      <td>0</td>\n",
       "      <td>0</td>\n",
       "      <td>0</td>\n",
       "      <td>0</td>\n",
       "      <td>...</td>\n",
       "      <td>119</td>\n",
       "      <td>114</td>\n",
       "      <td>130</td>\n",
       "      <td>76</td>\n",
       "      <td>0</td>\n",
       "      <td>0</td>\n",
       "      <td>0</td>\n",
       "      <td>0</td>\n",
       "      <td>0</td>\n",
       "      <td>0</td>\n",
       "    </tr>\n",
       "    <tr>\n",
       "      <th>2</th>\n",
       "      <td>0</td>\n",
       "      <td>0</td>\n",
       "      <td>0</td>\n",
       "      <td>0</td>\n",
       "      <td>0</td>\n",
       "      <td>0</td>\n",
       "      <td>0</td>\n",
       "      <td>0</td>\n",
       "      <td>0</td>\n",
       "      <td>22</td>\n",
       "      <td>...</td>\n",
       "      <td>0</td>\n",
       "      <td>0</td>\n",
       "      <td>1</td>\n",
       "      <td>0</td>\n",
       "      <td>0</td>\n",
       "      <td>0</td>\n",
       "      <td>0</td>\n",
       "      <td>0</td>\n",
       "      <td>0</td>\n",
       "      <td>0</td>\n",
       "    </tr>\n",
       "    <tr>\n",
       "      <th>3</th>\n",
       "      <td>0</td>\n",
       "      <td>0</td>\n",
       "      <td>0</td>\n",
       "      <td>0</td>\n",
       "      <td>0</td>\n",
       "      <td>0</td>\n",
       "      <td>0</td>\n",
       "      <td>0</td>\n",
       "      <td>33</td>\n",
       "      <td>96</td>\n",
       "      <td>...</td>\n",
       "      <td>0</td>\n",
       "      <td>0</td>\n",
       "      <td>0</td>\n",
       "      <td>0</td>\n",
       "      <td>0</td>\n",
       "      <td>0</td>\n",
       "      <td>0</td>\n",
       "      <td>0</td>\n",
       "      <td>0</td>\n",
       "      <td>0</td>\n",
       "    </tr>\n",
       "    <tr>\n",
       "      <th>4</th>\n",
       "      <td>0</td>\n",
       "      <td>0</td>\n",
       "      <td>0</td>\n",
       "      <td>0</td>\n",
       "      <td>0</td>\n",
       "      <td>0</td>\n",
       "      <td>0</td>\n",
       "      <td>0</td>\n",
       "      <td>0</td>\n",
       "      <td>0</td>\n",
       "      <td>...</td>\n",
       "      <td>0</td>\n",
       "      <td>0</td>\n",
       "      <td>0</td>\n",
       "      <td>0</td>\n",
       "      <td>0</td>\n",
       "      <td>0</td>\n",
       "      <td>0</td>\n",
       "      <td>0</td>\n",
       "      <td>0</td>\n",
       "      <td>0</td>\n",
       "    </tr>\n",
       "  </tbody>\n",
       "</table>\n",
       "<p>5 rows × 784 columns</p>\n",
       "</div>"
      ],
      "text/plain": [
       "   0  1  2  3  4  5  6  7   8   9  ...  774  775  776  777  778  779  780  \\\n",
       "0  0  0  0  0  0  0  0  0   0   0  ...    0    0    0    0    0    0    0   \n",
       "1  0  0  0  0  0  1  0  0   0   0  ...  119  114  130   76    0    0    0   \n",
       "2  0  0  0  0  0  0  0  0   0  22  ...    0    0    1    0    0    0    0   \n",
       "3  0  0  0  0  0  0  0  0  33  96  ...    0    0    0    0    0    0    0   \n",
       "4  0  0  0  0  0  0  0  0   0   0  ...    0    0    0    0    0    0    0   \n",
       "\n",
       "   781  782  783  \n",
       "0    0    0    0  \n",
       "1    0    0    0  \n",
       "2    0    0    0  \n",
       "3    0    0    0  \n",
       "4    0    0    0  \n",
       "\n",
       "[5 rows x 784 columns]"
      ]
     },
     "execution_count": 3,
     "metadata": {},
     "output_type": "execute_result"
    }
   ],
   "source": [
    "xtrain.head()"
   ]
  },
  {
   "cell_type": "code",
   "execution_count": 4,
   "id": "134d98ad",
   "metadata": {},
   "outputs": [
    {
     "data": {
      "text/html": [
       "<div>\n",
       "<style scoped>\n",
       "    .dataframe tbody tr th:only-of-type {\n",
       "        vertical-align: middle;\n",
       "    }\n",
       "\n",
       "    .dataframe tbody tr th {\n",
       "        vertical-align: top;\n",
       "    }\n",
       "\n",
       "    .dataframe thead th {\n",
       "        text-align: right;\n",
       "    }\n",
       "</style>\n",
       "<table border=\"1\" class=\"dataframe\">\n",
       "  <thead>\n",
       "    <tr style=\"text-align: right;\">\n",
       "      <th></th>\n",
       "      <th>0</th>\n",
       "    </tr>\n",
       "  </thead>\n",
       "  <tbody>\n",
       "    <tr>\n",
       "      <th>0</th>\n",
       "      <td>9</td>\n",
       "    </tr>\n",
       "    <tr>\n",
       "      <th>1</th>\n",
       "      <td>0</td>\n",
       "    </tr>\n",
       "    <tr>\n",
       "      <th>2</th>\n",
       "      <td>0</td>\n",
       "    </tr>\n",
       "    <tr>\n",
       "      <th>3</th>\n",
       "      <td>3</td>\n",
       "    </tr>\n",
       "    <tr>\n",
       "      <th>4</th>\n",
       "      <td>0</td>\n",
       "    </tr>\n",
       "  </tbody>\n",
       "</table>\n",
       "</div>"
      ],
      "text/plain": [
       "   0\n",
       "0  9\n",
       "1  0\n",
       "2  0\n",
       "3  3\n",
       "4  0"
      ]
     },
     "execution_count": 4,
     "metadata": {},
     "output_type": "execute_result"
    }
   ],
   "source": [
    "ytrain.head()"
   ]
  },
  {
   "cell_type": "code",
   "execution_count": 5,
   "id": "f39f7c62",
   "metadata": {},
   "outputs": [],
   "source": [
    "label_dic = {0:'T-shirt/Top',1:'Trouser',2:'Pullover',3:'Dress',\n",
    "            4:'Coat',5:'Sandal',6:'Shirt',7:'Sneaker',8:'Bag',\n",
    "            9:'Ankle Boot'}"
   ]
  },
  {
   "cell_type": "code",
   "execution_count": null,
   "id": "fd986867",
   "metadata": {},
   "outputs": [],
   "source": [
    "#these are the labels values of the image present in the fashion set data\n"
   ]
  },
  {
   "cell_type": "code",
   "execution_count": null,
   "id": "eb04f11b",
   "metadata": {},
   "outputs": [],
   "source": [
    "#in this we need to provide the image as the input to the cnn \n",
    "# so there i snood need to flatten the input \n"
   ]
  },
  {
   "cell_type": "code",
   "execution_count": 6,
   "id": "457c7876",
   "metadata": {},
   "outputs": [],
   "source": [
    "x= np.array(xtrain)\n",
    "y = tf.keras.utils.to_categorical(np.array(ytrain),10)"
   ]
  },
  {
   "cell_type": "code",
   "execution_count": 7,
   "id": "26b97555",
   "metadata": {},
   "outputs": [],
   "source": [
    "# scaling the image pixel values\n",
    "x= x/255.0\n"
   ]
  },
  {
   "cell_type": "markdown",
   "id": "a6a0752f",
   "metadata": {},
   "source": [
    "#### Assembling Neural Network model"
   ]
  },
  {
   "cell_type": "code",
   "execution_count": 8,
   "id": "6744fbc1",
   "metadata": {},
   "outputs": [],
   "source": [
    "from tensorflow.keras.models import Sequential\n",
    "from keras.layers.convolutional import Conv2D\n",
    "#to provide a 2d view\n",
    "from keras.layers.core import Dense,Flatten \n",
    "from keras.layers.pooling import MaxPool2D\n",
    "\n",
    "#for optimzation \n",
    "from tensorflow.keras.optimizers import SGD\n",
    "from tensorflow.keras.layers import Dropout\n",
    "\n",
    "from keras.utils import np_utils\n"
   ]
  },
  {
   "cell_type": "markdown",
   "id": "f8bf7697",
   "metadata": {},
   "source": [
    "###### Building model architecture"
   ]
  },
  {
   "cell_type": "code",
   "execution_count": 11,
   "id": "00466d26",
   "metadata": {},
   "outputs": [],
   "source": [
    "model = Sequential()\n",
    "#this is 1st hidden layer ie the 1st convolution layer\n",
    "model.add(Conv2D(filters=6,kernel_size = (3,3), padding='same',\n",
    "                input_shape=(28,28,1)))\n",
    "#1 in input shape is the color of the image \n",
    "\n",
    "#adding pooling layer: this is for downsizing the image\n",
    "model.add(MaxPool2D(pool_size=(2,2)))\n",
    "\n",
    "#2nd convolution layer\n",
    "#adding another convolution layer \n",
    "model.add(Conv2D(filters=16,kernel_size = (3,3), padding='valid'))\n",
    "\n",
    "#2nd maxpooling layer\n",
    "model.add(MaxPool2D(pool_size=(2,2)))\n",
    "\n",
    "#flattening the input\n",
    "model.add(Flatten())\n",
    "\n",
    "#adding dropout layer \n",
    "model.add(Dropout(0.2, seed= 100))\n",
    "\n",
    "#to improve the efficiency so that the model learns the data better so we add more dense layers to the model\n",
    "model.add(Dense(120,activation='relu'))\n",
    "model.add(Dense(84,activation='relu'))\n",
    "#the following code goes to the output layer\n",
    "model.add(Dense(10,activation='softmax'))"
   ]
  },
  {
   "cell_type": "markdown",
   "id": "f764bf94",
   "metadata": {},
   "source": [
    "###### We provide the model for the training"
   ]
  },
  {
   "cell_type": "code",
   "execution_count": 18,
   "id": "d413bb76",
   "metadata": {},
   "outputs": [],
   "source": [
    "#optimizing the model\n",
    "\n",
    "sgd = SGD(learning_rate=0.01,decay=1e-6,momentum=0.9,nesterov=True)\n",
    "\n",
    "model.compile(loss='categorical_crossentropy',\n",
    "             metrics=['accuracy'],\n",
    "             optimizer=sgd)"
   ]
  },
  {
   "cell_type": "code",
   "execution_count": 19,
   "id": "13fd66de",
   "metadata": {},
   "outputs": [],
   "source": [
    "#here we reshape the flattened image back to the original image\n",
    "#since the cnn model does not take the flatten image as nput\n",
    "\n",
    "x_train = x.reshape(x.shape[0],28,28,1)"
   ]
  },
  {
   "cell_type": "code",
   "execution_count": 20,
   "id": "5ac0be07",
   "metadata": {},
   "outputs": [
    {
     "name": "stdout",
     "output_type": "stream",
     "text": [
      "Epoch 1/10\n",
      "48/48 [==============================] - 6s 114ms/step - loss: 1.7049 - accuracy: 0.3811 - val_loss: 0.8461 - val_accuracy: 0.6663\n",
      "Epoch 2/10\n",
      "48/48 [==============================] - 6s 116ms/step - loss: 0.7880 - accuracy: 0.7076 - val_loss: 0.6472 - val_accuracy: 0.7450\n",
      "Epoch 3/10\n",
      "48/48 [==============================] - 5s 108ms/step - loss: 0.6463 - accuracy: 0.7573 - val_loss: 0.5678 - val_accuracy: 0.7807\n",
      "Epoch 4/10\n",
      "48/48 [==============================] - 5s 108ms/step - loss: 0.5878 - accuracy: 0.7805 - val_loss: 0.5333 - val_accuracy: 0.8026\n",
      "Epoch 5/10\n",
      "48/48 [==============================] - 5s 113ms/step - loss: 0.5487 - accuracy: 0.7956 - val_loss: 0.5051 - val_accuracy: 0.8152\n",
      "Epoch 6/10\n",
      "48/48 [==============================] - 6s 123ms/step - loss: 0.5200 - accuracy: 0.8077 - val_loss: 0.4844 - val_accuracy: 0.8185\n",
      "Epoch 7/10\n",
      "48/48 [==============================] - 6s 115ms/step - loss: 0.4977 - accuracy: 0.8165 - val_loss: 0.4619 - val_accuracy: 0.8290\n",
      "Epoch 8/10\n",
      "48/48 [==============================] - 5s 112ms/step - loss: 0.4788 - accuracy: 0.8252 - val_loss: 0.4426 - val_accuracy: 0.8383\n",
      "Epoch 9/10\n",
      "48/48 [==============================] - 6s 123ms/step - loss: 0.4615 - accuracy: 0.8315 - val_loss: 0.4286 - val_accuracy: 0.8438\n",
      "Epoch 10/10\n",
      "48/48 [==============================] - 6s 119ms/step - loss: 0.4494 - accuracy: 0.8367 - val_loss: 0.4214 - val_accuracy: 0.8457\n"
     ]
    }
   ],
   "source": [
    "history = model.fit(x_train, y , epochs=10,batch_size=1000, validation_split= 0.20)"
   ]
  },
  {
   "cell_type": "code",
   "execution_count": 21,
   "id": "e70993f1",
   "metadata": {},
   "outputs": [],
   "source": [
    "# normalizing and reshaping the testing data\n",
    "x_test = np.array(xtest)\n",
    "x_test = x_test/255.0\n"
   ]
  },
  {
   "cell_type": "code",
   "execution_count": 24,
   "id": "268b8922",
   "metadata": {},
   "outputs": [],
   "source": [
    "x_test = x_test.reshape(xtest.shape[0],28,28,1)"
   ]
  },
  {
   "cell_type": "code",
   "execution_count": 25,
   "id": "767c04d1",
   "metadata": {},
   "outputs": [
    {
     "data": {
      "text/plain": [
       "<matplotlib.image.AxesImage at 0x1cbb8cfe9d0>"
      ]
     },
     "execution_count": 25,
     "metadata": {},
     "output_type": "execute_result"
    },
    {
     "data": {
      "image/png": "[encoded data removed]",
      "text/plain": [
       "<Figure size 432x288 with 1 Axes>"
      ]
     },
     "metadata": {
      "needs_background": "light"
     },
     "output_type": "display_data"
    }
   ],
   "source": [
    "#image in index 8 in xtest\n",
    "\n",
    "plt.imshow(x_test[8,:,:].reshape(28,28),cmap='gray')"
   ]
  },
  {
   "cell_type": "markdown",
   "id": "4df653dd",
   "metadata": {},
   "source": [
    "##### Checking the predition of the model"
   ]
  },
  {
   "cell_type": "code",
   "execution_count": 26,
   "id": "01895941",
   "metadata": {},
   "outputs": [
    {
     "data": {
      "text/plain": [
       "array([[3.2228939e-03, 5.2592804e-04, 2.3063316e-03, 2.9152832e-03,\n",
       "        9.8212925e-04, 7.8643620e-01, 1.2481711e-03, 1.8098019e-01,\n",
       "        2.0519646e-02, 8.6326292e-04]], dtype=float32)"
      ]
     },
     "execution_count": 26,
     "metadata": {},
     "output_type": "execute_result"
    }
   ],
   "source": [
    "#no of img, shape h and w , channel(ags of reshape)\n",
    "p = model.predict(x_test[8,:,:].reshape(1,28,28,1))\n",
    "p"
   ]
  },
  {
   "cell_type": "code",
   "execution_count": 27,
   "id": "e8c44afc",
   "metadata": {},
   "outputs": [
    {
     "data": {
      "text/plain": [
       "5"
      ]
     },
     "execution_count": 27,
     "metadata": {},
     "output_type": "execute_result"
    }
   ],
   "source": [
    "np.argmax(p)#7.8643620e-01"
   ]
  },
  {
   "cell_type": "code",
   "execution_count": 28,
   "id": "62d04cb1",
   "metadata": {},
   "outputs": [
    {
     "data": {
      "text/plain": [
       "'Sandal'"
      ]
     },
     "execution_count": 28,
     "metadata": {},
     "output_type": "execute_result"
    }
   ],
   "source": [
    "label_dic[5]"
   ]
  },
  {
   "cell_type": "code",
   "execution_count": null,
   "id": "cd886ae9",
   "metadata": {},
   "outputs": [],
   "source": [
    "#we got a 78% prob that the predicted value is Sandal"
   ]
  },
  {
   "cell_type": "code",
   "execution_count": null,
   "id": "914bc26b",
   "metadata": {},
   "outputs": [],
   "source": [
    "#here we get more accuracy than mlp"
   ]
  },
  {
   "cell_type": "code",
   "execution_count": 32,
   "id": "b31b66ee",
   "metadata": {},
   "outputs": [
    {
     "data": {
      "text/plain": [
       "<matplotlib.legend.Legend at 0x1cbb908b460>"
      ]
     },
     "execution_count": 32,
     "metadata": {},
     "output_type": "execute_result"
    },
    {
     "data": {
      "image/png": "[encoded data removed]",
      "text/plain": [
       "<Figure size 432x288 with 1 Axes>"
      ]
     },
     "metadata": {
      "needs_background": "light"
     },
     "output_type": "display_data"
    }
   ],
   "source": [
    "plt.plot(history.history['accuracy'])\n",
    "plt.plot(history.history['val_accuracy'])\n",
    "plt.xlabel('epoch')\n",
    "plt.ylabel('accuracy')\n",
    "plt.legend(['Train', 'Test'],loc='upper left')"
   ]
  },
  {
   "cell_type": "code",
   "execution_count": 31,
   "id": "5cea3237",
   "metadata": {},
   "outputs": [
    {
     "data": {
      "text/plain": [
       "<matplotlib.legend.Legend at 0x1cbb8e68190>"
      ]
     },
     "execution_count": 31,
     "metadata": {},
     "output_type": "execute_result"
    },
    {
     "data": {
      "image/png": "[encoded data removed]",
      "text/plain": [
       "<Figure size 432x288 with 1 Axes>"
      ]
     },
     "metadata": {
      "needs_background": "light"
     },
     "output_type": "display_data"
    }
   ],
   "source": [
    "plt.plot(history.history['loss'])\n",
    "plt.plot(history.history['val_loss'])\n",
    "plt.xlabel('epoch')\n",
    "plt.ylabel('loss')\n",
    "plt.legend(['Train','Test'],loc='upper left')"
   ]
  },
  {
   "cell_type": "code",
   "execution_count": null,
   "id": "74f56f1f",
   "metadata": {},
   "outputs": [],
   "source": []
  },
  {
   "cell_type": "code",
   "execution_count": null,
   "id": "5bc4146e",
   "metadata": {},
   "outputs": [],
   "source": []
  },
  {
   "cell_type": "code",
   "execution_count": null,
   "id": "b417fb42",
   "metadata": {},
   "outputs": [],
   "source": []
  },
  {
   "cell_type": "code",
   "execution_count": null,
   "id": "34ba3900",
   "metadata": {},
   "outputs": [],
   "source": []
  },
  {
   "cell_type": "code",
   "execution_count": null,
   "id": "30369438",
   "metadata": {},
   "outputs": [],
   "source": []
  }
 ],
 "metadata": {
  "kernelspec": {
   "display_name": "Python 3",
   "language": "python",
   "name": "python3"
  },
  "language_info": {
   "codemirror_mode": {
    "name": "ipython",
    "version": 3
   },
   "file_extension": ".py",
   "mimetype": "text/x-python",
   "name": "python",
   "nbconvert_exporter": "python",
   "pygments_lexer": "ipython3",
   "version": "3.8.8"
  }
 },
 "nbformat": 4,
 "nbformat_minor": 5
}
